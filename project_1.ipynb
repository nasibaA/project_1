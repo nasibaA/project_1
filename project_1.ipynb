{
 "cells": [
  {
   "cell_type": "code",
   "execution_count": 1,
   "id": "c567def7",
   "metadata": {},
   "outputs": [],
   "source": [
    "import matplotlib.pyplot as plt\n",
    "import seaborn as sns\n",
    "import pandas as pd\n",
    "import numpy as np\n",
    "import requests\n",
    "import time\n",
    "from pprint import pprint\n",
    "\n",
    "\n",
    "#import api_keys\n",
    "from api_keys import api_key\n"
   ]
  },
  {
   "cell_type": "code",
   "execution_count": 2,
   "id": "1759383d",
   "metadata": {},
   "outputs": [
    {
     "ename": "SyntaxError",
     "evalue": "EOL while scanning string literal (Temp/ipykernel_14312/4063363574.py, line 2)",
     "output_type": "error",
     "traceback": [
      "\u001b[1;36m  File \u001b[1;32m\"C:\\Users\\12674\\AppData\\Local\\Temp/ipykernel_14312/4063363574.py\"\u001b[1;36m, line \u001b[1;32m2\u001b[0m\n\u001b[1;33m    base_url = \"https://api.nasa.gov/neo/rest/v1/feed?start_date=\"+startDate+\"&end_date=\"+endDate+\"\"&api_key=oZMj9ugDHdPXcNimvzMjyhFMwvyHDm6K1RwhLyjV\"\u001b[0m\n\u001b[1;37m                                                                                                                                                      ^\u001b[0m\n\u001b[1;31mSyntaxError\u001b[0m\u001b[1;31m:\u001b[0m EOL while scanning string literal\n"
     ]
    }
   ],
   "source": [
    "def JasonData(startDate,endDate):\n",
    "    base_url = \"https://api.nasa.gov/neo/rest/v1/feed?start_date=\"+startDate+\"&end_date=\"+endDate+\"\"&api_key=oZMj9ugDHdPXcNimvzMjyhFMwvyHDm6K1RwhLyjV\"\n",
    "\n",
    "    req = requests.get(base_url)\n",
    "    json_data = req.json()\n",
    "def createDictionary(asteroid_data):\n",
    "#using for loops to go loop throuh the list and add to dictionary    \n",
    "for i in json_data['near_earth_objects']:\n",
    "    try:\n",
    "        if i !=0:\n",
    "            print('Found Asteriods in this Date: ',i)\n",
    "            \n",
    "    for j in json_data['near_earth_objects'][i]:\n",
    "        asteroids_data['name'].append(j['name'])\n",
    "        asteroids_data['absolute magnitude'].append(j['absolute_magnitude_h'])\n",
    "        asteroids_data['estimated diameter(max)'].append(j['estimated_diameter']['kilometers']['estimated_diameter_max'])\n",
    "        asteroids_data['is potentially hazardous asteroid'].append(j['is_potentially_hazardous_asteroid'])\n",
    "        for k in json_data ['near_earth_objects'][i]:\n",
    "            asteroids_data['close approach: Earth miss distance'].append(k['close_approach_data'][0]['miss_distance']['kilometers'])\n",
    "    except:\n",
    "        print('There is no asteriod this day')\n",
    "        \n",
    "        \n",
    "asteroids_data = {'name':[],\n",
    "                 'absolute magnitude':[] ,\n",
    "                 'estimated diameter(max)':[],\n",
    "                 'is potentially hazardous asteroid':[],\n",
    "                 'close approach: Earth miss distance':[]}\n",
    "               \n",
    "\n",
    "\n",
    "createDictionary(JasonData(\"2021-10-01\",\"2021-10-08\"))\n",
    "createDictionary(JasonData(\"2021-10-09\",\"2021-10-16\"))\n",
    "createDictionary(JasonData(\"2021-10-17\",\"2021-10-24\"))\n",
    "createDictionary(JasonData(\"2021-10-25\",\"2021-10-31\"))\n",
    "\n",
    "\n",
    "\n",
    "#asteroids_df = pd.DataFrame.from_dict(asteroids_data)\n",
    "#asteroids_df['close approach: Earth miss distance'] = asteroids_df['close approach: Earth miss distance'].astype(float)\n",
    "#asteroids_df['close approach: Earth miss distance'] = asteroids_df['close approach: Earth miss distance']/1000000\n",
    "#asteroids_df\n",
    "\n"
   ]
  },
  {
   "cell_type": "markdown",
   "id": "f254f48a",
   "metadata": {},
   "source": [
    "Question: How many asteroids were detected during the week of 2021/10/01 that are larger than 1 kilometer(0.6 miles) in diameter are 7.5 million kilometers or closer from Earth?"
   ]
  },
  {
   "cell_type": "markdown",
   "id": "c13f5baa",
   "metadata": {},
   "source": [
    "Answer: During the week (2021/10/01 - 2021/10/08) asteroids there were no asteroids larger than 1 km in diameter and within 7.5 Million KMs distance to the Earth."
   ]
  },
  {
   "cell_type": "code",
   "execution_count": null,
   "id": "a78c9e69",
   "metadata": {},
   "outputs": [],
   "source": [
    "fig, ax = plt.subplots()\n",
    "ax.scatter(x = asteroids_df['close approach: Earth miss distance'],y= asteroids_df['estimated diameter(max)'])\n",
    "plt.xlabel('close approach: Earth miss distance(Mln KM)')\n",
    "plt.ylabel('estimated diameter(max,KM)')\n",
    "plt.title('Cclose approach: Earth miss distance vs.Estimated diameter(2021/10/01-2021/10/08)')\n",
    "plt.show()"
   ]
  },
  {
   "cell_type": "code",
   "execution_count": null,
   "id": "03022971",
   "metadata": {},
   "outputs": [],
   "source": [
    "sns.relplot(x = 'estimated diameter(max)', y = 'absolute magnitude',\n",
    "           data = asteroids_df,\n",
    "           s = 150,\n",
    "           color = 'red',\n",
    "           marker = '8',).set(title = \"Estimated diameter(max) vs.Absolute magnitude(2021/10/01-2021/10/08)\",\n",
    "                                xlabel = 'Estimated diameter (MAX/KM)',\n",
    "                                ylabel = 'Absolute magnitude ')\n",
    "plt.show()"
   ]
  },
  {
   "cell_type": "markdown",
   "id": "7dcd0706",
   "metadata": {},
   "source": [
    "Question: Are brighter (with higher absolute magnitude) asteroids bigger in size than darker (with lower absolute magnitude)?"
   ]
  },
  {
   "cell_type": "markdown",
   "id": "0c0fe85a",
   "metadata": {},
   "source": [
    "Answer: Brighter asteroids are generally smaller in size than darker asteroids. The relationship between absolute magnitude and asteroid diameter appears to be negative logarithmic."
   ]
  },
  {
   "cell_type": "code",
   "execution_count": null,
   "id": "891016b1",
   "metadata": {},
   "outputs": [],
   "source": []
  }
 ],
 "metadata": {
  "kernelspec": {
   "display_name": "Python 3 (ipykernel)",
   "language": "python",
   "name": "python3"
  },
  "language_info": {
   "codemirror_mode": {
    "name": "ipython",
    "version": 3
   },
   "file_extension": ".py",
   "mimetype": "text/x-python",
   "name": "python",
   "nbconvert_exporter": "python",
   "pygments_lexer": "ipython3",
   "version": "3.8.5"
  }
 },
 "nbformat": 4,
 "nbformat_minor": 5
}
